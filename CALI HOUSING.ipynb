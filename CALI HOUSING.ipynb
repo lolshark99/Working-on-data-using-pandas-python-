{
 "cells": [
  {
   "cell_type": "code",
   "execution_count": null,
   "id": "72b48615",
   "metadata": {},
   "outputs": [],
   "source": [
    "import numpy as np\n",
    "import os\n",
    "import matplotlib.pyplot as plt\n",
    "import pandas as pd\n",
    "from sklearn.datasets import _california_housing\n"
   ]
  }
 ],
 "metadata": {
  "language_info": {
   "name": "python"
  }
 },
 "nbformat": 4,
 "nbformat_minor": 5
}
